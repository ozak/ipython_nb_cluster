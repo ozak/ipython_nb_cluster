{
 "metadata": {
  "name": "",
  "signature": "sha256:6c8634b7e2634a179e5f84659bc55162ef9268d4fe03f75929fa28c95e52124b"
 },
 "nbformat": 3,
 "nbformat_minor": 0,
 "worksheets": [
  {
   "cells": [
    {
     "cell_type": "code",
     "collapsed": false,
     "input": [
      "from IPython import parallel\n",
      "c = parallel.Client()\n",
      "view = c.load_balanced_view()"
     ],
     "language": "python",
     "metadata": {},
     "outputs": [],
     "prompt_number": 1
    },
    {
     "cell_type": "code",
     "collapsed": false,
     "input": [
      "! echo $c.ids>ids.txt"
     ],
     "language": "python",
     "metadata": {},
     "outputs": [],
     "prompt_number": 2
    },
    {
     "cell_type": "code",
     "collapsed": false,
     "input": [
      "with c[:].sync_imports(): import socket"
     ],
     "language": "python",
     "metadata": {},
     "outputs": [
      {
       "output_type": "stream",
       "stream": "stdout",
       "text": [
        "importing socket on engine(s)\n"
       ]
      }
     ],
     "prompt_number": 3
    },
    {
     "cell_type": "code",
     "collapsed": false,
     "input": [
      "%px print(socket.gethostname())"
     ],
     "language": "python",
     "metadata": {},
     "outputs": [
      {
       "output_type": "stream",
       "stream": "stdout",
       "text": [
        "[stdout:0] usr246-227.dynd.smu.edu\n",
        "[stdout:1] usr246-227.dynd.smu.edu\n"
       ]
      }
     ],
     "prompt_number": 4
    },
    {
     "cell_type": "code",
     "collapsed": false,
     "input": [
      "c[0].apply_sync(lambda x: x**2,2)"
     ],
     "language": "python",
     "metadata": {},
     "outputs": [
      {
       "metadata": {},
       "output_type": "pyout",
       "prompt_number": 19,
       "text": [
        "4"
       ]
      }
     ],
     "prompt_number": 19
    },
    {
     "cell_type": "code",
     "collapsed": false,
     "input": [
      "dview=c[:]"
     ],
     "language": "python",
     "metadata": {},
     "outputs": [],
     "prompt_number": 6
    },
    {
     "cell_type": "code",
     "collapsed": false,
     "input": [
      "result=dview.map_async(lambda x: socket.gethostname(), range(64))"
     ],
     "language": "python",
     "metadata": {},
     "outputs": [],
     "prompt_number": 13
    },
    {
     "cell_type": "code",
     "collapsed": false,
     "input": [
      "result.get()"
     ],
     "language": "python",
     "metadata": {},
     "outputs": [
      {
       "metadata": {},
       "output_type": "pyout",
       "prompt_number": 19,
       "text": [
        "['usr246-227.dynd.smu.edu',\n",
        " 'usr246-227.dynd.smu.edu',\n",
        " 'usr246-227.dynd.smu.edu',\n",
        " 'usr246-227.dynd.smu.edu',\n",
        " 'usr246-227.dynd.smu.edu',\n",
        " 'usr246-227.dynd.smu.edu',\n",
        " 'usr246-227.dynd.smu.edu',\n",
        " 'usr246-227.dynd.smu.edu',\n",
        " 'usr246-227.dynd.smu.edu',\n",
        " 'usr246-227.dynd.smu.edu',\n",
        " 'usr246-227.dynd.smu.edu',\n",
        " 'usr246-227.dynd.smu.edu']"
       ]
      }
     ],
     "prompt_number": 19
    },
    {
     "cell_type": "code",
     "collapsed": false,
     "input": [
      "result=result.get()"
     ],
     "language": "python",
     "metadata": {},
     "outputs": [],
     "prompt_number": 20
    },
    {
     "cell_type": "code",
     "collapsed": false,
     "input": [
      "! echo $result > hostnames.txt"
     ],
     "language": "python",
     "metadata": {},
     "outputs": [],
     "prompt_number": 22
    },
    {
     "cell_type": "code",
     "collapsed": false,
     "input": [
      "result=dview.map_sync(lambda x: socket.gethostname(), range(12))"
     ],
     "language": "python",
     "metadata": {},
     "outputs": [],
     "prompt_number": 9
    },
    {
     "cell_type": "code",
     "collapsed": false,
     "input": [
      "result"
     ],
     "language": "python",
     "metadata": {},
     "outputs": [
      {
       "metadata": {},
       "output_type": "pyout",
       "prompt_number": 10,
       "text": [
        "['usr246-227.dynd.smu.edu',\n",
        " 'usr246-227.dynd.smu.edu',\n",
        " 'usr246-227.dynd.smu.edu',\n",
        " 'usr246-227.dynd.smu.edu',\n",
        " 'usr246-227.dynd.smu.edu',\n",
        " 'usr246-227.dynd.smu.edu',\n",
        " 'usr246-227.dynd.smu.edu',\n",
        " 'usr246-227.dynd.smu.edu',\n",
        " 'usr246-227.dynd.smu.edu',\n",
        " 'usr246-227.dynd.smu.edu',\n",
        " 'usr246-227.dynd.smu.edu',\n",
        " 'usr246-227.dynd.smu.edu']"
       ]
      }
     ],
     "prompt_number": 10
    }
   ],
   "metadata": {}
  }
 ]
}