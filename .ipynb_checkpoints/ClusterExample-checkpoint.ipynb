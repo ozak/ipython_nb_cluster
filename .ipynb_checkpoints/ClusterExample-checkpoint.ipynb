{
 "metadata": {
  "name": "",
  "signature": "sha256:f9f6fc69917c7fd96430b6b3675828bfb89b78a8af538ad51e0979d06946cdaa"
 },
 "nbformat": 3,
 "nbformat_minor": 0,
 "worksheets": [
  {
   "cells": [
    {
     "cell_type": "code",
     "collapsed": false,
     "input": [
      "from IPython import parallel\n",
      "c = parallel.Client()\n",
      "view = c.load_balanced_view()"
     ],
     "language": "python",
     "metadata": {},
     "outputs": []
    },
    {
     "cell_type": "code",
     "collapsed": false,
     "input": [
      "%%px --local\n",
      "\n",
      "import numpy as np\n",
      "import pandas as pd\n",
      "try:\n",
      "   import cPickle as pickle\n",
      "except:\n",
      "   import pickle\n",
      "\n",
      "class MyLongAssComputation(object):\n",
      "    def compute(self, x):\n",
      "        return x**2\n",
      "    \n",
      "def compute_func(x):\n",
      "    c = MyLongAssComputation()\n",
      "    return c.compute(x)"
     ],
     "language": "python",
     "metadata": {},
     "outputs": []
    },
    {
     "cell_type": "code",
     "collapsed": false,
     "input": [
      "x = np.arange(1, 1001)\n",
      "squared = view.map_sync(compute_func, x)\n",
      "pickle.dump(squared, open('output.pickle', 'w'))"
     ],
     "language": "python",
     "metadata": {},
     "outputs": []
    },
    {
     "cell_type": "code",
     "collapsed": false,
     "input": [
      "output=pickle.load(open('./output.pickle','rb'))"
     ],
     "language": "python",
     "metadata": {},
     "outputs": []
    },
    {
     "cell_type": "code",
     "collapsed": false,
     "input": [
      "output"
     ],
     "language": "python",
     "metadata": {},
     "outputs": []
    }
   ],
   "metadata": {}
  }
 ]
}